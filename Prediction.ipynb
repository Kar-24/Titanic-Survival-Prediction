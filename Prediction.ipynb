{
 "cells": [
  {
   "cell_type": "code",
   "execution_count": 2,
   "id": "d583b6d8",
   "metadata": {},
   "outputs": [
    {
     "name": "stdout",
     "output_type": "stream",
     "text": [
      "0.8268156424581006\n"
     ]
    }
   ],
   "source": [
    "import numpy as np\n",
    "import pandas as pd\n",
    "from sklearn.model_selection import train_test_split\n",
    "from sklearn.metrics import accuracy_score\n",
    "from sklearn.ensemble import RandomForestClassifier\n",
    "tr_d=pd.read_csv(\"train.csv\")\n",
    "te_d=pd.read_csv(\"test.csv\")\n",
    "\n",
    "tr_d['Age']=tr_d['Age'].fillna(tr_d['Age'].median())\n",
    "te_d['Age']=te_d['Age'].fillna(te_d['Age'].median())\n",
    "\n",
    "tr_d['Embarked']=tr_d['Embarked'].fillna(tr_d['Embarked'].mode()[0])\n",
    "\n",
    "te_d['Fare']=te_d['Fare'].fillna(te_d['Fare'].mode()[0])\n",
    "\n",
    "tr_d=tr_d.drop(['Cabin','Name','Ticket'],axis=1)\n",
    "te_d=te_d.drop(['Cabin','Name','Ticket'],axis=1)\n",
    "\n",
    "tr_d['Sex']=tr_d['Sex'].map({\"male\":0,\"female\":1})\n",
    "te_d['Sex']=te_d['Sex'].map({\"male\":0,\"female\":1})\n",
    "\n",
    "tr_d['Embarked']=tr_d['Embarked'].map({\"S\":0,\"C\":1,\"Q\":2})\n",
    "te_d['Embarked']=te_d['Embarked'].map({\"S\":0,\"C\":1,\"Q\":2})\n",
    "\n",
    "X = tr_d.drop(['Survived', 'PassengerId'], axis=1)\n",
    "y = tr_d['Survived']\n",
    "\n",
    "x_train,x_test,y_train,y_test=train_test_split(X,y,random_state=42,test_size=0.2)\n",
    "\n",
    "model=RandomForestClassifier(random_state=42)\n",
    "model.fit(x_train,y_train)\n",
    "\n",
    "y_pred=model.predict(x_test)\n",
    "\n",
    "acc=accuracy_score(y_test,y_pred)\n",
    "print(acc)\n",
    "\n",
    "x_test=te_d.drop(['PassengerId'],axis=1)\n",
    "y_pred=model.predict(x_test)\n",
    "sub=pd.DataFrame({'PassengerId': te_d['PassengerId'],'Pclass':te_d['Pclass'],'Survived': y_pred})\n",
    "sub.to_csv('submission.csv',index=False)"
   ]
  }
 ],
 "metadata": {
  "kernelspec": {
   "display_name": "base",
   "language": "python",
   "name": "python3"
  },
  "language_info": {
   "codemirror_mode": {
    "name": "ipython",
    "version": 3
   },
   "file_extension": ".py",
   "mimetype": "text/x-python",
   "name": "python",
   "nbconvert_exporter": "python",
   "pygments_lexer": "ipython3",
   "version": "3.13.5"
  }
 },
 "nbformat": 4,
 "nbformat_minor": 5
}
